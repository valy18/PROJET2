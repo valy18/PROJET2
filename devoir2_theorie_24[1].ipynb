{
 "cells": [
  {
   "cell_type": "markdown",
   "metadata": {
    "id": "sqVW5Nezc8GZ"
   },
   "source": [
    "# Devoir n° 2\n",
    "\n"
   ]
  },
  {
   "cell_type": "markdown",
   "metadata": {
    "id": "T2qszXPfdAsP"
   },
   "source": [
    "Définition d'une classe abstraite de base pour toutes\n",
    "couches que vous développerez."
   ]
  },
  {
   "cell_type": "code",
   "execution_count": 2,
   "metadata": {},
   "outputs": [],
   "source": [
    "import numpy as np\n",
    "from matplotlib import pyplot as plt\n",
    "\n",
    "\n",
    "class Couche:\n",
    "    def __call__(self, *args):\n",
    "        return self.forward(*args)\n",
    "\n",
    "    def forward(self, *args):\n",
    "        pass\n",
    "\n",
    "    def backward(self, grad=None):\n",
    "        pass\n",
    "\n",
    "    def update(self, lr):\n",
    "        pass\n",
    "\n",
    "    def zero_grad(self):\n",
    "        pass"
   ]
  },
  {
   "cell_type": "markdown",
   "metadata": {},
   "source": [
    "Tout au long de ce devoir, veillez vous assurez que les vecteurs aient la taille `(1, N)` ou `(N, 1)` plutôt que `(N,)`.</br>\n",
    "Aussi lorsque vous faites une opération de réduction (somme, moyenne, etc...) sur un tenseur de taille `(M,N)`,\n",
    "</br>assurez vous que la taille du résultat est `(1, N)` ou `(M, 1)` selon la dimension\n",
    "choisie et non `(N,)` ou `(M,)`.\n",
    "\n",
    "Exécutez la cellule ci-dessous pour en voir un exemple.\n"
   ]
  },
  {
   "cell_type": "code",
   "execution_count": 3,
   "metadata": {},
   "outputs": [
    {
     "name": "stdout",
     "output_type": "stream",
     "text": [
      "(1, 5, 3) (5, 3)\n"
     ]
    }
   ],
   "source": [
    "a = np.arange(60).reshape(4,5,3)\n",
    "b = a.sum(axis=0, keepdims=True)\n",
    "c = a.sum(axis=0)\n",
    "\n",
    "print(b.shape, c.shape)"
   ]
  },
  {
   "cell_type": "markdown",
   "metadata": {
    "id": "kVZo5o9hdcia"
   },
   "source": [
    "## Réseau de neurones à une couche\n",
    "\n",
    "Veillez remplir les `...` par du code en vous inspirant du notebook du cours.\n",
    "\n",
    "\n"
   ]
  },
  {
   "cell_type": "code",
   "execution_count": 4,
   "metadata": {
    "id": "7QqqI8G_TgTV"
   },
   "outputs": [],
   "source": [
    "class Lineaire(Couche):\n",
    "    def __init__(self,  dim_entree: int, dim_sortie:int):\n",
    "        # compléter cette partie\n",
    "        self.b = np.zeros(dim_sortie)\n",
    "        self.W = np.random.randn(dim_entree, dim_sortie) * np.sqrt(2 / dim_entree)\n",
    "        self.W_grad = np.zeros_like(self.W)\n",
    "        self.b_grad = np.zeros_like(self.b)\n",
    "\n",
    "    def forward(self, entree):\n",
    "        self.entree = entree\n",
    "        # compléter cette partie\n",
    "        sortie = sortie = np.dot(entree, self.W) + self.b\n",
    "        return sortie\n",
    "\n",
    "    def backward(self, grad):\n",
    "        # compléter cette partie\n",
    "        self.entree_grad = np.dot(grad, self.W.T)\n",
    "        self.W_grad += np.dot(self.entree.T, grad)\n",
    "        self.b_grad += np.sum(grad, axis=0)\n",
    "        return self.entree_grad\n",
    "\n",
    "    def update(self, lr):\n",
    "        # compléter cette partie\n",
    "        self.W = self.W - lr * self.W_grad\n",
    "        self.b = self.b - lr * self.b_grad\n",
    "\n",
    "    def zero_grad(self):\n",
    "        self.W_grad.fill(0)\n",
    "        self.b_grad.fill(0)"
   ]
  },
  {
   "cell_type": "code",
   "execution_count": 5,
   "metadata": {
    "colab": {
     "base_uri": "https://localhost:8080/"
    },
    "id": "OjyScDadV9m3",
    "outputId": "83e5375b-dfbd-4bcc-ea2d-c2466a4bd14d"
   },
   "outputs": [
    {
     "name": "stdout",
     "output_type": "stream",
     "text": [
      "[[-0.6404824]]\n"
     ]
    }
   ],
   "source": [
    "# Exécuter cette cellule ne doit produire aucune erreur\n",
    "entree_ = np.array([1, -1])[None]\n",
    "sortie_ = np.array([10])[None]\n",
    "# Définir un modèle d'une couche liant les entrée et sortie définies\n",
    "model = Lineaire(2, 1)\n",
    "sortie_predite = model(entree_)\n",
    "assert sortie_predite.shape == sortie_.shape\n",
    "print(sortie_predite)"
   ]
  },
  {
   "cell_type": "markdown",
   "metadata": {},
   "source": [
    "### Log Cosh Loss\n",
    "\n",
    "La fonction cosinus hyperbolique  se définit par:\n",
    "$x\\in \\mathbb{R}^N$\n",
    "\n",
    "$$LogCosh(x) =  log(cosh(x))$$\n",
    "$$LogCosh(x) =  log(\\frac{e^x + e^{-x}}{2})$$\n",
    "\n",
    "Avec $x = y_{prédit} - y_{réel}$\n",
    "\n",
    "Dérivation:\n",
    "\n",
    "$$\n",
    "(log(cosh(x)))' = \\frac{cosh'(x)}{cosh(x)}  \n",
    "                = \\frac{sinh(x)}{cosh(x)} \n",
    "                = tanh(x)  \n",
    "%                    = \\frac{e^x(1 - e^{-2x})^2}{2(1 + e^{-2x})}  \n",
    "$$"
   ]
  },
  {
   "cell_type": "code",
   "execution_count": 6,
   "metadata": {},
   "outputs": [],
   "source": [
    "class LogCoshLoss(Couche):\n",
    "    def forward(self, sortie_reelle, sortie_predite):\n",
    "        self.sortie_reelle = sortie_reelle\n",
    "        self.sortie_predite = sortie_predite\n",
    "        x = sortie_predite - sortie_reelle\n",
    "        perte = np.log(np.cosh(x))\n",
    "        return perte\n",
    "\n",
    "    def backward(self, grad=None):\n",
    "        x = self.sortie_predite - self.sortie_reelle\n",
    "        grad_loss = np.tanh(x)\n",
    "        if grad is not None:\n",
    "            grad_loss *= grad\n",
    "        return grad_loss\n"
   ]
  },
  {
   "cell_type": "code",
   "execution_count": 7,
   "metadata": {},
   "outputs": [],
   "source": [
    "# Compléter la fonction ci-dessous pour faire un entraînement\n",
    "# sur le nombre d'époques spécifiées, suivant le rythme lr et\n",
    "# l'ensemble des paramètres spécifiés\n",
    "def fit(model, entrees, sorties, loss_func, epoques, lr):\n",
    "    for i in range(epoques):\n",
    "        sortie_predites = model(entrees)\n",
    "        lossvalue = loss_func(sorties, sortie_predites)\n",
    "        print(f'Epoque #{i}  loss: {lossvalue} ')\n",
    "        sortie_predites_grad = loss_func.backward()\n",
    "        model.backward(sortie_predites_grad)\n",
    "        model.update(lr)\n",
    "        model.zero_grad()\n",
    "    #assert (np.abs(sortie_predites - sorties) < 1e-5).all()\n",
    "    print(f'prediction:{sortie_predites[0,0]}\\t cible:{sorties[0,0]}')"
   ]
  },
  {
   "cell_type": "code",
   "execution_count": 8,
   "metadata": {},
   "outputs": [
    {
     "name": "stdout",
     "output_type": "stream",
     "text": [
      "Epoque #0  loss: [[11.50951188  4.24502646]] \n",
      "Epoque #1  loss: [[7.65951193 0.50276853]] \n",
      "Epoque #2  loss: [[3.80963505 1.30321271]] \n",
      "Epoque #3  loss: [[0.19992627 1.06576965]] \n",
      "Epoque #4  loss: [[0.90699515 1.21611506]] \n",
      "Epoque #5  loss: [[1.29190569 1.12480052]] \n",
      "Epoque #6  loss: [[1.07363766 1.18212604]] \n",
      "Epoque #7  loss: [[1.21174186 1.14674544]] \n",
      "Epoque #8  loss: [[1.12766136 1.16883905]] \n",
      "Epoque #9  loss: [[1.18041284 1.15513607]] \n",
      "prediction:8.150906611410969\t cible:10\n"
     ]
    }
   ],
   "source": [
    "# Exécuter cette cellule ne doit produire aucune erreur\n",
    "\n",
    "\n",
    "epoques = 10\n",
    "lr = 0.2\n",
    "\n",
    "entree_ = np.array([1, -1, 0.5, 4])[None]\n",
    "sortie_ = np.array([10, 3])[None]\n",
    "loss = LogCoshLoss()\n",
    "# Définir un modèle d'une couche liant les entrée et sortie définies\n",
    "model = Lineaire(4, 2)\n",
    "\n",
    "fit(model, entree_, sortie_, loss, epoques, lr)"
   ]
  },
  {
   "cell_type": "markdown",
   "metadata": {},
   "source": [
    "## L'activation softplus \n",
    "\n",
    "Il existe plusieurs fonctions d'activation parmi lesquelles\n",
    "compte la fonction softplus\n",
    "qui est dérivable en zéro contrairement à la fonction RELU définie par:\n",
    "\n",
    "\n",
    "$softplus(x) = log(1+e^x)$\n",
    "\n",
    "Si $ \\begin{align}\n",
    "    x &= \\begin{bmatrix}\n",
    "           x_{1} \\\\\n",
    "           x_{2} \\\\\n",
    "           \\vdots \\\\\n",
    "           x_{n}\n",
    "         \\end{bmatrix}\n",
    "  \\end{align}$, alors\n",
    "$ \\begin{align}\n",
    "    f(x) &= \\begin{bmatrix}\n",
    "           f(x_{1}) \\\\\n",
    "           f(x_{2}) \\\\\n",
    "           \\vdots \\\\\n",
    "           f(x_{n})\n",
    "         \\end{bmatrix}\n",
    "  \\end{align}\n",
    "\\text{ pour } f \\text{ une fonction d'activation}\n",
    "$\n",
    "\n",
    "Dérivation :\n",
    "\n",
    "$$softplus'(x) = \\sigma(x) = \\frac{1}{1+e^{-x}}$$\n"
   ]
  },
  {
   "cell_type": "markdown",
   "metadata": {},
   "source": [
    "#### Tracer les courbes des fonctions softplus et RELU sur l'intervalle [-20,20] afin de voir les similarités et différences:"
   ]
  },
  {
   "cell_type": "code",
   "execution_count": 9,
   "metadata": {},
   "outputs": [
    {
     "data": {
      "image/png": "[encoded data removed]",
      "text/plain": [
       "<Figure size 1000x600 with 1 Axes>"
      ]
     },
     "metadata": {},
     "output_type": "display_data"
    }
   ],
   "source": [
    "import numpy as np\n",
    "import matplotlib.pyplot as plt\n",
    "\n",
    "# Définition des fonctions d'activation\n",
    "def softplus(x):\n",
    "    return np.log(1 + np.exp(x))\n",
    "\n",
    "def relu(x):\n",
    "    return np.maximum(0, x)\n",
    "\n",
    "# Définition de l'intervalle\n",
    "x_values = np.linspace(-20, 20, 1000)\n",
    "\n",
    "# Calcul des valeurs des fonctions pour chaque point de l'intervalle\n",
    "softplus_values = softplus(x_values)\n",
    "relu_values = relu(x_values)\n",
    "\n",
    "# Tracé des courbes\n",
    "plt.figure(figsize=(10, 6))\n",
    "\n",
    "plt.plot(x_values, softplus_values, label='Softplus', linewidth=2)\n",
    "plt.plot(x_values, relu_values, label='ReLU', linewidth=2, linestyle='--')\n",
    "\n",
    "# Ajout de titres et de légendes\n",
    "plt.title('Courbes des fonctions Softplus et ReLU')\n",
    "plt.xlabel('x')\n",
    "plt.ylabel('f(x)')\n",
    "plt.legend()\n",
    "\n",
    "# Affichage du graphe\n",
    "plt.grid(True)\n",
    "plt.show()\n"
   ]
  },
  {
   "cell_type": "code",
   "execution_count": 10,
   "metadata": {},
   "outputs": [],
   "source": [
    "# Compléter le code ci-dessous pour l'activation softplus.\n",
    "class Softplus(Couche):\n",
    "    def forward(self, entree_):\n",
    "        self.entree_ = entree_\n",
    "        # compléter cette partie\n",
    "        self.sortie_ = np.log(1 + np.exp(entree_))\n",
    "        return self.sortie_\n",
    "    \n",
    "    def backward(self, sortie_grad):\n",
    "        # compléter cette partie\n",
    "        \n",
    "        # gradient softplus\n",
    "        self.grad = 1 / (1 + np.exp(-self.entree_))\n",
    "        # gradient relativement au loss\n",
    "        self.entree_grad = self.grad * sortie_grad \n",
    "        return self.entree_grad"
   ]
  },
  {
   "cell_type": "markdown",
   "metadata": {},
   "source": [
    "#### Test de l'activation softplus\n",
    "\n",
    "Aucune erreur ne doit se produire en exécutant la cellule ci-dessous."
   ]
  },
  {
   "cell_type": "code",
   "execution_count": 11,
   "metadata": {},
   "outputs": [
    {
     "name": "stdout",
     "output_type": "stream",
     "text": [
      "Gradient calculée:\n",
      " [[0.73105858]\n",
      " [0.62245933]\n",
      " [0.5       ]\n",
      " [0.37754067]\n",
      " [0.26894142]] \n",
      "\n",
      "Gradient approximatif:\n",
      " [[0.73105858]\n",
      " [0.62245933]\n",
      " [0.5       ]\n",
      " [0.37754067]\n",
      " [0.26894142]] \n",
      "\n",
      "Différence entre Gradients calculé et approximatif:\n",
      " [[ 6.75225431e-11]\n",
      " [ 1.19816379e-11]\n",
      " [-6.98889835e-11]\n",
      " [ 1.47738488e-11]\n",
      " [ 4.24996704e-11]]\n"
     ]
    }
   ],
   "source": [
    "softplus = Softplus()\n",
    "entree_ = np.expand_dims(np.array([1, 0.5, 0, -0.5, -1]), 0)\n",
    "sortie_ = softplus(entree_) \n",
    "assert sortie_.shape == entree_.shape, 'Erreur, dimensions non conservée'\n",
    "assert (sortie_ != entree_).all(), 'Erreur, entrée égale à la sortie'\n",
    "assert (sortie_ > 0).all(), 'Erreur, sortie ayant des valeurs ≤ 0'\n",
    "softplus.backward(entree_)\n",
    "print(f'Gradient calculée:\\n {softplus.grad.T}', '\\n')\n",
    "h=1e-6\n",
    "approx_grad = (softplus(entree_+h) - softplus(entree_-h))/(2*h)\n",
    "print(f'Gradient approximatif:\\n {approx_grad.T}', '\\n')\n",
    "print(f'Différence entre Gradients calculé et approximatif:\\n {(softplus.grad - approx_grad).T}')\n",
    "assert (np.abs(softplus.grad - approx_grad) < h).all()"
   ]
  },
  {
   "cell_type": "markdown",
   "metadata": {
    "id": "_IJ0TQYn-iPE"
   },
   "source": [
    "# Perceptron Multicouche\n",
    "\n",
    "Le but de cette partie est de mettre en place un réseau Perceptron multicouche de profondeur arbitraire !"
   ]
  },
  {
   "cell_type": "code",
   "execution_count": 12,
   "metadata": {
    "id": "4tFAwWp8-hw5"
   },
   "outputs": [],
   "source": [
    "from typing import List\n",
    "\n",
    "class MLP(Couche):\n",
    "    def __init__(self, couches: List[Couche]):\n",
    "        self.couches = couches\n",
    "\n",
    "    def forward(self, entree):\n",
    "        sortie = entree\n",
    "        for couche in self.couches:\n",
    "            sortie = couche.forward(sortie)\n",
    "        return sortie\n",
    "\n",
    "    def backward(self, loss_grad):\n",
    "        sortie_grad = loss_grad\n",
    "        for couche in reversed(self.couches):\n",
    "            sortie_grad = couche.backward(sortie_grad)\n",
    "\n",
    "    def update(self, lr):\n",
    "        # compléter cette partie\n",
    "        for couche in self.couches:\n",
    "            couche.update(lr)\n",
    "\n",
    "    def zero_grad(self):\n",
    "        # compléter cette partie\n",
    "        for couche in self.couches:\n",
    "            couche.zero_grad()"
   ]
  },
  {
   "cell_type": "code",
   "execution_count": 15,
   "metadata": {
    "colab": {
     "base_uri": "https://localhost:8080/",
     "height": 679
    },
    "id": "S2MWG-eKCILG",
    "outputId": "50968551-f532-40d3-de84-35e87baefd02"
   },
   "outputs": [
    {
     "name": "stdout",
     "output_type": "stream",
     "text": [
      "Epoque #0  loss: [[8.68549685]] \n",
      "Epoque #1  loss: [[8.26698377]] \n",
      "Epoque #2  loss: [[7.80331486]] \n",
      "Epoque #3  loss: [[7.27234894]] \n",
      "Epoque #4  loss: [[6.63838922]] \n",
      "Epoque #5  loss: [[5.83698827]] \n",
      "Epoque #6  loss: [[4.7307236]] \n",
      "Epoque #7  loss: [[2.93443804]] \n",
      "Epoque #8  loss: [[0.1511457]] \n",
      "Epoque #9  loss: [[2.70214526]] \n",
      "Epoque #10  loss: [[0.00904663]] \n",
      "Epoque #11  loss: [[0.33334749]] \n",
      "Epoque #12  loss: [[4.18229539]] \n",
      "Epoque #13  loss: [[3.59203804]] \n",
      "Epoque #14  loss: [[2.06541817]] \n",
      "Epoque #15  loss: [[0.20282603]] \n",
      "Epoque #16  loss: [[0.45407035]] \n",
      "Epoque #17  loss: [[0.79472894]] \n",
      "Epoque #18  loss: [[0.36317284]] \n",
      "Epoque #19  loss: [[0.70299691]] \n",
      "prediction:8.671687100554255\t cible:10\n"
     ]
    }
   ],
   "source": [
    "# Exécuter cette cellule ne doit produire aucune erreur\n",
    "epoques = 20\n",
    "lr = 0.2\n",
    "loss = LogCoshLoss()\n",
    "entree_ = np.array([1, -1, 2.])[None]\n",
    "sortie_ = np.array([10])[None]\n",
    "# Écrire un modèle MLP dont les nombres de neurones\n",
    "# par couche sont: 4 --> 3 --> 2 --> 1 et la dernière couche est sans activation.\n",
    "# \n",
    "couche1 = Lineaire(3,3)\n",
    "couche2 = Lineaire(3, 2)\n",
    "couche3 = Lineaire(2, 1)\n",
    "model = MLP([couche1, Softplus(), couche2, Softplus(), couche3])\n",
    "\n",
    "fit(model, entree_, sortie_, loss, epoques, lr)"
   ]
  },
  {
   "cell_type": "markdown",
   "metadata": {},
   "source": [
    "## Application au dataset MNIST"
   ]
  },
  {
   "cell_type": "code",
   "execution_count": 17,
   "metadata": {
    "id": "cqENhTMpdlJT"
   },
   "outputs": [
    {
     "ename": "ModuleNotFoundError",
     "evalue": "No module named 'torchvision'",
     "output_type": "error",
     "traceback": [
      "\u001b[1;31m---------------------------------------------------------------------------\u001b[0m",
      "\u001b[1;31mModuleNotFoundError\u001b[0m                       Traceback (most recent call last)",
      "Cell \u001b[1;32mIn[17], line 1\u001b[0m\n\u001b[1;32m----> 1\u001b[0m \u001b[38;5;28;01mfrom\u001b[39;00m \u001b[38;5;21;01mtorchvision\u001b[39;00m\u001b[38;5;21;01m.\u001b[39;00m\u001b[38;5;21;01mdatasets\u001b[39;00m \u001b[38;5;28;01mimport\u001b[39;00m MNIST\n\u001b[0;32m      2\u001b[0m \u001b[38;5;28;01mfrom\u001b[39;00m \u001b[38;5;21;01msklearn\u001b[39;00m\u001b[38;5;21;01m.\u001b[39;00m\u001b[38;5;21;01mmodel_selection\u001b[39;00m \u001b[38;5;28;01mimport\u001b[39;00m StratifiedShuffleSplit\n\u001b[0;32m      4\u001b[0m mnist \u001b[38;5;241m=\u001b[39m MNIST(\u001b[38;5;124m'\u001b[39m\u001b[38;5;124m./\u001b[39m\u001b[38;5;124m'\u001b[39m, download\u001b[38;5;241m=\u001b[39m\u001b[38;5;28;01mTrue\u001b[39;00m)\n",
      "\u001b[1;31mModuleNotFoundError\u001b[0m: No module named 'torchvision'"
     ]
    }
   ],
   "source": [
    "from torchvision.datasets import MNIST\n",
    "from sklearn.model_selection import StratifiedShuffleSplit\n",
    "\n",
    "mnist = MNIST('./', download=True)\n",
    "\n",
    "(x, y) = (mnist.train_data.numpy(), mnist.train_labels.numpy())\n",
    "sss = StratifiedShuffleSplit(n_splits=3, test_size=1./3., random_state=10)\n",
    "idxs = sss.split(x, y)\n",
    "i=0\n",
    "for train_idxs, test_idxs in idxs:\n",
    "    (x_train, y_train) = (x[train_idxs], y[train_idxs])\n",
    "    (x_test, y_test) =   (x[test_idxs], y[test_idxs])\n",
    "    break\n",
    "\n",
    "x_train, x_test = x_train / 255.0, x_test / 255.0\n",
    " "
   ]
  },
  {
   "cell_type": "code",
   "execution_count": 181,
   "metadata": {
    "id": "UgbM2NMJYswq"
   },
   "outputs": [],
   "source": [
    "print(\"x shape is\", x_train.shape)\n",
    "print(\"y shape is\", y_train.shape)"
   ]
  },
  {
   "cell_type": "code",
   "execution_count": 182,
   "metadata": {
    "id": "AW7PadiiJcd6"
   },
   "outputs": [],
   "source": [
    "print(\"x shape is\", x_test.shape)\n",
    "print(\"y shape is\", y_test.shape)"
   ]
  },
  {
   "cell_type": "code",
   "execution_count": 183,
   "metadata": {
    "id": "r_qrLIo99HQ6"
   },
   "outputs": [],
   "source": [
    "import matplotlib.pyplot as plt\n",
    "\n",
    "def plot_image(array):\n",
    "    plt.imshow(array, cmap='gray_r');\n",
    "\n",
    "plot_image(np.hstack(x_train[1:10]))\n",
    "print(y_train[1:10])"
   ]
  },
  {
   "cell_type": "code",
   "execution_count": 127,
   "metadata": {
    "id": "s-aQw_uEIngo"
   },
   "outputs": [],
   "source": [
    "from time import time\n",
    "# Compléter cette fonction pour l'entraînement par lot de données\n",
    "def fit_batch(model, x, y, bs, loss_func, epoques, lr):\n",
    "    \"\"\"\n",
    "    bs: taille du lot ou batch de données\n",
    "    \"\"\"\n",
    "    entrees = x.copy()\n",
    "    sorties = y.copy()\n",
    "    all_losses = []\n",
    "    N = entrees.shape[0]\n",
    "    t = time()\n",
    "    for i in range(epoques):\n",
    "        losses = []\n",
    "        # Re-agencement aléatoire des données\n",
    "        shuffle = np.random.permutation(N)\n",
    "        entrees = entrees[shuffle]\n",
    "        sorties = sorties[shuffle]\n",
    "        for k in range(0, N, bs):\n",
    "            sorties_predites = ...\n",
    "            lossvalue = ...\n",
    "            losses.append(lossvalue)\n",
    "            sortie_predite_grad = ...\n",
    "            ...\n",
    "            ...\n",
    "        all_losses += losses\n",
    "        if i%10 == 0:\n",
    "            print(f'Epoque #{i}\\tloss: {round(np.mean(losses), 3)}\\ttime: {round(time() - t, 3)} ')\n",
    "            t = time()\n",
    "            \n",
    "    return all_losses"
   ]
  },
  {
   "cell_type": "markdown",
   "metadata": {},
   "source": [
    "## Modèles Regressifs"
   ]
  },
  {
   "cell_type": "code",
   "execution_count": 158,
   "metadata": {
    "id": "5BhhwlsIPMDN"
   },
   "outputs": [],
   "source": [
    "# Exécuter cette cellule ne doit produire aucune erreur\n",
    "\n",
    "\n",
    "# Convertis les images en vecteurs\n",
    "entrees = x_train.reshape((-1, 28*28))\n",
    "sorties = y_train.reshape((-1,1))\n",
    "# Écrire un modèle MLP dont les nombres de neurones\n",
    "# par couche sont: 784 --> 50 --> 1 et la dernière couche est sans activation.\n",
    "# \n",
    "model = ...\n",
    "bs=100\n",
    "loss_func = LogCoshLoss()\n",
    "epoques=100\n",
    "lr=0.01\n",
    "losses = fit_batch(model, entrees, sorties, bs, loss_func, epoques, lr)"
   ]
  },
  {
   "cell_type": "code",
   "execution_count": null,
   "metadata": {},
   "outputs": [],
   "source": [
    "def plot_loss(losses):\n",
    "    # Écrire le code pour afficher l'évolution du loss\n",
    "    # en fonction des itérations(batch)\n",
    "    pass"
   ]
  },
  {
   "cell_type": "markdown",
   "metadata": {},
   "source": [
    "### Evaluation du modèle régressif sur les données de test"
   ]
  },
  {
   "cell_type": "code",
   "execution_count": null,
   "metadata": {},
   "outputs": [],
   "source": [
    "# Compléter le code pour évaluer le modèle\n",
    "def mesure_performance(model, xt, yt):\n",
    "    # arrondir la prédiction à l'entier le plus proche.\n",
    "    y_predit = ...\n",
    "    return ...\n",
    "\n",
    "\n",
    "xt = x_test.reshape((-1, 28*28))\n",
    "yt = y_test.reshape((-1,1))\n",
    "mesure_performance(model, xt, yt)"
   ]
  },
  {
   "cell_type": "markdown",
   "metadata": {},
   "source": [
    "### En profondeur\n",
    "\n",
    "Écrire un modèle MLP `model_profond` dont les nombres de neurones\n",
    "par couche sont: `784 --> 50 --> 10 --> 1` et la dernière couche est sans activation.\n",
    "\n",
    "Entraîner ce modèle,l'Évaluer et le comparer au modèle précédent. Quel est le meilleur? Justifier votre réponse\n"
   ]
  },
  {
   "cell_type": "code",
   "execution_count": null,
   "metadata": {},
   "outputs": [],
   "source": [
    "# Code"
   ]
  },
  {
   "cell_type": "code",
   "execution_count": 238,
   "metadata": {},
   "outputs": [
    {
     "data": {
      "text/plain": [
       "tensor(0.4338)"
      ]
     },
     "execution_count": 238,
     "metadata": {},
     "output_type": "execute_result"
    }
   ],
   "source": [
    "torch.cosh(torch.tensor(-1)).log()"
   ]
  },
  {
   "cell_type": "markdown",
   "metadata": {},
   "source": [
    "## Passons à PyTorch\n",
    "Tous les entraînements qui suivront se feront sur 100 époques avec la même architecture:\n",
    "\n",
    "784 --> 50 --> 10 --> 1 ou 10\n",
    "\n",
    "Pour la dernière couche, 1 est utilisé pour la régression et 10 pour la crossentropy et le loss de ciszar définie plus bas.\n",
    "\n",
    "### 1. Entraîner de nouveau le modèle précédent (même architecture) avec PyTorch et la fonction de loss MSE.</br>Réaliser les mêmes évaluations. Comparer les résultats au précédent."
   ]
  },
  {
   "cell_type": "code",
   "execution_count": null,
   "metadata": {},
   "outputs": [],
   "source": [
    "import torch\n",
    "from torch import nn\n",
    "\n",
    "...\n",
    "# sauvegarder les valeurs du loss à chaque époque dans la variable mseloss"
   ]
  },
  {
   "cell_type": "markdown",
   "metadata": {},
   "source": [
    "### 2. Entraîner le même réseau avec la fonction de loss nommée `crossentropy` en ajoutant le softmax à la suite de la dernière couche.</br> Réaliser les mêmes évaluations et enregistrer les valeurs du loss. Comparer le résultat au précédent. Quel est le meilleur? Que peut-on dire de l'impact du choix de la fonction de loss dans l'entraînement d'un modèle"
   ]
  },
  {
   "cell_type": "code",
   "execution_count": null,
   "metadata": {},
   "outputs": [],
   "source": [
    "....\n",
    "# sauvegarder les valeurs du loss à chaque époque dans la variable celoss"
   ]
  },
  {
   "cell_type": "markdown",
   "metadata": {},
   "source": [
    "### 3. Une autre fonction de loss: Divergence de Csízar\n",
    "\n",
    "$$S(p,q) = \\sum_{i=0}^{9} [\\frac{(p_i+q_i)(p_i-q_i)^2}{p_iq_i}] \\ln [\\frac{p_i+q_i}{2\\sqrt{p_iq_i}}]$$\n",
    "\n",
    "Cette formule est le loss appliqué entre une prédiction ($q = y'$) et son résultat attendue ($p = y$) car nous\n",
    "avons 10 catégories de chiffres dans la base MNIST.\n",
    "\n",
    "Dans notre cas, $p = y$ et $q = y'$ où y est la prédiction et y est le résultat attendu.\n"
   ]
  },
  {
   "cell_type": "code",
   "execution_count": null,
   "metadata": {},
   "outputs": [],
   "source": [
    "def divergence_ciszar(ypred, ytrue):\n",
    "  # Implémenter la formule en ajoutant un epsilon = 1e-10 à chaque \n",
    "  # dénominateur pour éviter une division par zéro et supposant que\n",
    "  # ypred et ytrue sont des PyTorch tensors\n",
    "  ....\n",
    "  \n",
    "  res = ...\n",
    "  return res"
   ]
  },
  {
   "cell_type": "markdown",
   "metadata": {},
   "source": [
    "Pour vous aider, vous pouvez tester la fonction sur les données suivantes.\n",
    "`divergence_ciszar(y1, y1_prime)` doit donner une valeur scalaire de même son application à y_batch et y_prime_batch."
   ]
  },
  {
   "cell_type": "code",
   "execution_count": null,
   "metadata": {},
   "outputs": [],
   "source": [
    "y1 = torch.tensor([0.004, 0.031, 0.109, 0.219, 0.274, 0.219, 0.109, 0.031, 0.004])\n",
    "y1_prime = torch.tensor([0.005, 0.030, 0.104, 0.220, 0.282, 0.220, 0.104, 0.030, 0.005])\n",
    "\n",
    "y2 = torch.tensor([0.017, 0.090, 0.209, 0.279, 0.232, 0.124, 0.041, 0.008, 0.001])\n",
    "y2_prime = torch.tensor([0.020, 0.082, 0.198, 0.285, 0.244, 0.124, 0.037, 0.007, 0.0007])\n",
    "\n",
    "y_batch = torch.stack([y1, y2])\n",
    "y_prime_batch = torch.stack([y2, y2_prime])"
   ]
  },
  {
   "cell_type": "code",
   "execution_count": 4,
   "metadata": {},
   "outputs": [
    {
     "data": {
      "text/plain": [
       "(torch.Size([9]), torch.Size([2, 9]))"
      ]
     },
     "execution_count": 4,
     "metadata": {},
     "output_type": "execute_result"
    }
   ],
   "source": [
    "y1.shape, y_batch.shape"
   ]
  },
  {
   "cell_type": "markdown",
   "metadata": {},
   "source": [
    "Compléter le code du loss de Ciszar et l'utiliser en replacement de la crossentropy utilisée précédemment pour entraîner le modèle"
   ]
  },
  {
   "cell_type": "code",
   "execution_count": null,
   "metadata": {},
   "outputs": [],
   "source": [
    "class CiszarLoss(nn.Module):\n",
    "    def __init__(self):\n",
    "        super(CiszarLoss, self).__init__()\n",
    "\n",
    "    def forward(self, outputs, targets):\n",
    "        # Calculer le loss en utilisant la fonction divergence_ciszar\n",
    "        loss = ....\n",
    "        return loss"
   ]
  },
  {
   "cell_type": "code",
   "execution_count": null,
   "metadata": {},
   "outputs": [],
   "source": [
    "...\n",
    "# sauvegarder les valeurs du loss à chaque époque dans la variable ciszarloss"
   ]
  },
  {
   "cell_type": "markdown",
   "metadata": {},
   "source": [
    "Afficher sur un même graphe, l'évolution des trois losses: mseloss, celoss and ciszarloss.\n",
    "Commenter les vitesses de convergence des uns par rapport aux autres."
   ]
  },
  {
   "cell_type": "code",
   "execution_count": null,
   "metadata": {},
   "outputs": [],
   "source": []
  },
  {
   "cell_type": "markdown",
   "metadata": {},
   "source": [
    "< commentaire >"
   ]
  },
  {
   "cell_type": "markdown",
   "metadata": {},
   "source": [
    "**Félicitations !** </br>\n",
    "Vous avez dorénavant une bonne compréhension de la lourde artillerie embarquée dans les frameworks de Deep Learning !"
   ]
  },
  {
   "cell_type": "markdown",
   "metadata": {},
   "source": []
  }
 ],
 "metadata": {
  "colab": {
   "collapsed_sections": [
    "1-QK1DGMVFmV",
    "c67k16FsVQUj",
    "vq0Z_14tdra9",
    "Wo5zDlScdl4s"
   ],
   "provenance": []
  },
  "gpuClass": "standard",
  "kernelspec": {
   "display_name": ".venv",
   "language": "python",
   "name": "python3"
  },
  "language_info": {
   "codemirror_mode": {
    "name": "ipython",
    "version": 3
   },
   "file_extension": ".py",
   "mimetype": "text/x-python",
   "name": "python",
   "nbconvert_exporter": "python",
   "pygments_lexer": "ipython3",
   "version": "3.12.6"
  }
 },
 "nbformat": 4,
 "nbformat_minor": 1
}
